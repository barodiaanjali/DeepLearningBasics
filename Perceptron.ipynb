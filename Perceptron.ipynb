{
 "cells": [
  {
   "cell_type": "code",
   "execution_count": null,
   "metadata": {},
   "outputs": [],
   "source": [
    "# importing the required libraries\n",
    "\n",
    "import keras\n",
    "from keras import optimizers\n",
    "from keras.layers import Dense\n",
    "from keras .models import Sequential\n",
    "import matplotlib.pyplot as plt"
   ]
  },
  {
   "cell_type": "code",
   "execution_count": null,
   "metadata": {},
   "outputs": [],
   "source": [
    "# functioning for generating toy 2D data\n",
    "import numpy as np\n",
    "def gen_data(n=100):\n",
    "    x = np.random.randn(n, 2)\n",
    "    y_ = np.product(x, axis=1) > 0\n",
    "    y = np.array(y_, dtype=np.int8)\n",
    "    return(x, y)"
   ]
  },
  {
   "cell_type": "code",
   "execution_count": null,
   "metadata": {},
   "outputs": [],
   "source": [
    "# Generating random samples of two different classes\n",
    "x_train, y_train = gen_data()"
   ]
  },
  {
   "cell_type": "code",
   "execution_count": null,
   "metadata": {},
   "outputs": [],
   "source": [
    "# Building a perceptron model\n",
    "model = Sequential()\n",
    "model.add(Dense(1, input_shape=(2,), activation='sigmoid'))\n",
    "model.compile(optimizer='adam',\n",
    "      loss='binary_crossentropy',\n",
    "      metrics=['accuracy'])"
   ]
  },
  {
   "cell_type": "code",
   "execution_count": null,
   "metadata": {},
   "outputs": [],
   "source": [
    "# Training a perceptron model on the 2D data\n",
    "model.fit(x_train, y_train, epochs=20)"
   ]
  },
  {
   "cell_type": "code",
   "execution_count": null,
   "metadata": {},
   "outputs": [],
   "source": [
    "# Generating test data\n",
    "x_test, y_test = gen_data(1000)\n",
    "\n",
    "# Predicting the class label for the test data\n",
    "plt.rcParams['figure.figsize'] = 8, 4\n",
    "preds = model.predict_classes(x_test).reshape(-1,).astype(np.int8)"
   ]
  },
  {
   "cell_type": "code",
   "execution_count": null,
   "metadata": {},
   "outputs": [],
   "source": [
    "# Ploting the predictions of the perceptron model against ground truth\n",
    "plt.subplot(121)\n",
    "plt.scatter(x_test[:,0], x_test[:,1], color=[['red', 'blue'][x] for x in preds])\n",
    "plt.title('Predictions')\n",
    "plt.subplot(122)\n",
    "plt.scatter(x_test[:,0], x_test[:,1], color=[['red', 'blue'][x] for x in y_test])\n",
    "plt.title('Truth')\n",
    "plt.show()"
   ]
  },
  {
   "cell_type": "code",
   "execution_count": null,
   "metadata": {},
   "outputs": [],
   "source": [
    "# Building an MLP model with single hidden layer\n",
    "model2 = Sequential()\n",
    "model2.add(Dense(8, input_shape=(2,), activation='sigmoid'))\n",
    "model2.add(Dense(1, activation='sigmoid'))\n",
    "SGD = optimizers.SGD(lr=0.1, decay=1e-6, momentum=0.9, nesterov=True)\n",
    "model2.compile(optimizer=SGD,\n",
    "      loss='binary_crossentropy',\n",
    "      metrics=['accuracy'])"
   ]
  },
  {
   "cell_type": "code",
   "execution_count": null,
   "metadata": {},
   "outputs": [],
   "source": [
    "# Training the MLP on the 2D data\n",
    "model2.fit(x_train, y_train, epochs=1, verbose=2)"
   ]
  },
  {
   "cell_type": "code",
   "execution_count": null,
   "metadata": {},
   "outputs": [],
   "source": [
    "# Generating test data\n",
    "x_test, y_test = gen_data(1000)\n",
    "\n",
    "# Predicting labels using the MLP model\n",
    "plt.rcParams['figure.figsize'] = 8, 4\n",
    "preds = model2.predict_classes(x_test).reshape(-1,).astype(np.int8)\n",
    "\n",
    "# Ploting the predictions against the ground truth labels\n",
    "plt.subplot(121)\n",
    "plt.scatter(x_test[:,0], x_test[:,1], color=[['red', 'blue'][x] for x in preds])\n",
    "plt.title('Predictions')\n",
    "plt.subplot(122)\n",
    "plt.scatter(x_test[:,0], x_test[:,1], color=[['red', 'blue'][x] for x in y_test])\n",
    "plt.title('Truth')\n",
    "plt.show()"
   ]
  },
  {
   "cell_type": "code",
   "execution_count": null,
   "metadata": {},
   "outputs": [],
   "source": []
  }
 ],
 "metadata": {
  "anaconda-cloud": {},
  "kernelspec": {
   "display_name": "Python 3",
   "language": "python",
   "name": "python3"
  },
  "language_info": {
   "codemirror_mode": {
    "name": "ipython",
    "version": 3
   },
   "file_extension": ".py",
   "mimetype": "text/x-python",
   "name": "python",
   "nbconvert_exporter": "python",
   "pygments_lexer": "ipython3",
   "version": "3.5.4"
  }
 },
 "nbformat": 4,
 "nbformat_minor": 2
}
